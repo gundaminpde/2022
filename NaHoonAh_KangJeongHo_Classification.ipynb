{
  "nbformat": 4,
  "nbformat_minor": 0,
  "metadata": {
    "colab": {
      "provenance": [],
      "authorship_tag": "ABX9TyNsb8HcrOVPicqqVcAUa7og",
      "include_colab_link": true
    },
    "kernelspec": {
      "name": "python3",
      "display_name": "Python 3"
    },
    "language_info": {
      "name": "python"
    }
  },
  "cells": [
    {
      "cell_type": "markdown",
      "metadata": {
        "id": "view-in-github",
        "colab_type": "text"
      },
      "source": [
        "<a href=\"https://colab.research.google.com/github/gundaminpde/2022/blob/main/NaHoonAh_KangJeongHo_Classification.ipynb\" target=\"_parent\"><img src=\"https://colab.research.google.com/assets/colab-badge.svg\" alt=\"Open In Colab\"/></a>"
      ]
    },
    {
      "cell_type": "code",
      "execution_count": 3,
      "metadata": {
        "colab": {
          "base_uri": "https://localhost:8080/"
        },
        "id": "FyeyfhiyQIOe",
        "outputId": "88756f6f-53aa-41ea-a58b-84ba3f9a319b"
      },
      "outputs": [
        {
          "output_type": "stream",
          "name": "stdout",
          "text": [
            "Drive already mounted at /content/drive/; to attempt to forcibly remount, call drive.mount(\"/content/drive/\", force_remount=True).\n"
          ]
        }
      ],
      "source": [
        "### 가수 나훈아와 야구선수 강정호를 구분하는 project\n",
        "\n",
        "\n",
        "from google.colab import drive \n",
        "drive.mount('/content/drive/')"
      ]
    },
    {
      "cell_type": "code",
      "source": [
        "pwd"
      ],
      "metadata": {
        "colab": {
          "base_uri": "https://localhost:8080/",
          "height": 36
        },
        "id": "betYxYInQiIc",
        "outputId": "b1063bf3-e342-444e-bd1f-2e0219788d41"
      },
      "execution_count": 4,
      "outputs": [
        {
          "output_type": "execute_result",
          "data": {
            "text/plain": [
              "'/content'"
            ],
            "application/vnd.google.colaboratory.intrinsic+json": {
              "type": "string"
            }
          },
          "metadata": {},
          "execution_count": 4
        }
      ]
    },
    {
      "cell_type": "code",
      "source": [
        "ls"
      ],
      "metadata": {
        "colab": {
          "base_uri": "https://localhost:8080/"
        },
        "id": "kjBhvBxOQnuI",
        "outputId": "23e2d713-2205-46e7-f9d3-749746023232"
      },
      "execution_count": null,
      "outputs": [
        {
          "output_type": "stream",
          "name": "stdout",
          "text": [
            "\u001b[0m\u001b[01;34mdrive\u001b[0m/  \u001b[01;34msample_data\u001b[0m/\n"
          ]
        }
      ]
    },
    {
      "cell_type": "code",
      "source": [
        "cd drive/MyDrive/Na_Kang/Na_Kang_dataset"
      ],
      "metadata": {
        "colab": {
          "base_uri": "https://localhost:8080/"
        },
        "id": "memEfK0KQrkE",
        "outputId": "6d284b7d-69b7-4a1c-c149-883358a97267"
      },
      "execution_count": 5,
      "outputs": [
        {
          "output_type": "stream",
          "name": "stdout",
          "text": [
            "/content/drive/MyDrive/Na_Kang/Na_Kang_dataset\n"
          ]
        }
      ]
    },
    {
      "cell_type": "code",
      "source": [
        "import numpy as np\n",
        "from skimage.color import rgb2lab, rgb2gray, lab2rgb\n",
        "from skimage.io import imread, imshow\n",
        "import matplotlib.pyplot as plt\n",
        "\n",
        "image_sample= imread('train/Na/images-10.jpg')\n",
        "fig, ax = plt.subplots(figsize=(9, 16))\n",
        "imshow(image_sample, ax=ax)\n",
        "ax.set_title('NaHoonAh')\n",
        "#ax.axis('off');"
      ],
      "metadata": {
        "id": "qc6D7wGyQfzs"
      },
      "execution_count": null,
      "outputs": []
    },
    {
      "cell_type": "code",
      "source": [
        "\n",
        "image_sample= imread('train/Kang/images-7.jpg')\n",
        "fig, ax = plt.subplots(figsize=(9, 16))\n",
        "imshow(image_sample, ax=ax)\n",
        "ax.set_title('KangJeongHo')\n",
        "#ax.axis('off');"
      ],
      "metadata": {
        "id": "rznpxz54RmoY"
      },
      "execution_count": null,
      "outputs": []
    },
    {
      "cell_type": "code",
      "source": [
        "pwd"
      ],
      "metadata": {
        "colab": {
          "base_uri": "https://localhost:8080/",
          "height": 36
        },
        "id": "X28q-qvpSZ39",
        "outputId": "5e59e6be-d064-4c28-9ce9-d4b607170b2d"
      },
      "execution_count": 6,
      "outputs": [
        {
          "output_type": "execute_result",
          "data": {
            "text/plain": [
              "'/content/drive/MyDrive/Na_Kang/Na_Kang_dataset'"
            ],
            "application/vnd.google.colaboratory.intrinsic+json": {
              "type": "string"
            }
          },
          "metadata": {},
          "execution_count": 6
        }
      ]
    },
    {
      "cell_type": "code",
      "source": [
        "from tensorflow.keras.preprocessing.image import ImageDataGenerator\n",
        "\n",
        "from tensorflow.keras import Model\n",
        "from tensorflow.keras.models import Sequential\n",
        "from tensorflow.keras.layers import Dense, Dropout, Flatten, Conv2D, MaxPooling2D\n",
        "from keras.optimizers import Adam\n",
        "\n",
        "train_gen = ImageDataGenerator(\n",
        "        rescale=1./255,         # 픽셀 값을 0~1 범위로 변환\n",
        "        rotation_range=40,      # 40도까지 회전\n",
        "        width_shift_range=0.2,  # 20%까지 좌우 이동\n",
        "        height_shift_range=0.2, # 20%까지 상하 이동\n",
        "        shear_range=0.2,        # 20%까지 기울임\n",
        "        zoom_range=0.2,         # 20%까지 확대\n",
        "        horizontal_flip=True,   # 좌우 뒤집기\n",
        "    )\n",
        "\n",
        "train = train_gen.flow_from_directory(directory='train',\n",
        "                                              target_size=(100, 100),  # 사용할 CNN 모델 입력 사이즈에 맞게 resize\n",
        "                                              color_mode='rgb',       # 컬러는 rgb, 흑백은 grayscale. 생략하면 컬러로 처리한다\n",
        "                                              class_mode='categorical', # class_mode='binary',\n",
        "                                              batch_size=20,\n",
        "                                              shuffle=True)\n",
        "\n",
        "\n",
        "valid_gen = ImageDataGenerator(\n",
        "        rescale=1./255        \n",
        "    ) \n",
        "\n",
        "\n",
        "test = valid_gen.flow_from_directory(directory='test',\n",
        "                                              target_size=(100, 100),  # 사용할 CNN 모델 입력 사이즈에 맞게 resize\n",
        "                                              color_mode='rgb',       # 컬러는 rgb, 흑백은 grayscale. 생략하면 컬러로 처리한다\n",
        "                                              class_mode='categorical', # class_mode='binary',\n",
        "                                             # batch_size=3,\n",
        "                                              shuffle=True)\n",
        "\n",
        "\n",
        "\n",
        "# 컨볼루션 신경망의 설정\n",
        "model = Sequential()\n",
        "\n",
        "model.add(Conv2D(32, kernel_size=(3, 3), input_shape=(100, 100, 3), activation='relu'))\n",
        "model.add(Conv2D(32, (3, 3), activation='relu'))\n",
        "model.add(MaxPooling2D(pool_size=(2,2)))\n",
        "model.add(Conv2D(32, (3, 3), activation='relu'))\n",
        "model.add(MaxPooling2D(pool_size=(2,2)))\n",
        "model.add(Dropout(0.1))\n",
        "model.add(Flatten())\n",
        "model.add(Dense(128,  activation='relu'))\n",
        "model.add(Dropout(0.1))\n",
        "model.add(Dense(2, activation='softmax'))\n",
        "\n",
        "# 모델의 실행 옵션을 설정합니다.\n",
        "model.compile(loss='categorical_crossentropy',\n",
        "              optimizer='Adam',\n",
        "              metrics=['accuracy'])\n",
        "\n",
        "model.fit_generator(train, validation_data = test, epochs=30 )"
      ],
      "metadata": {
        "colab": {
          "base_uri": "https://localhost:8080/"
        },
        "id": "1Ra86dNZR9qj",
        "outputId": "fc06e21a-3a1b-4ed5-aad5-3faa5bcc1b3f"
      },
      "execution_count": 11,
      "outputs": [
        {
          "output_type": "stream",
          "name": "stdout",
          "text": [
            "Found 59 images belonging to 2 classes.\n",
            "Found 16 images belonging to 2 classes.\n",
            "Epoch 1/30\n"
          ]
        },
        {
          "output_type": "stream",
          "name": "stderr",
          "text": [
            "/usr/local/lib/python3.7/dist-packages/ipykernel_launcher.py:59: UserWarning: `Model.fit_generator` is deprecated and will be removed in a future version. Please use `Model.fit`, which supports generators.\n"
          ]
        },
        {
          "output_type": "stream",
          "name": "stdout",
          "text": [
            "3/3 [==============================] - 3s 912ms/step - loss: 0.9335 - accuracy: 0.5085 - val_loss: 0.7910 - val_accuracy: 0.5000\n",
            "Epoch 2/30\n",
            "3/3 [==============================] - 2s 742ms/step - loss: 0.7388 - accuracy: 0.4746 - val_loss: 0.7584 - val_accuracy: 0.5000\n",
            "Epoch 3/30\n",
            "3/3 [==============================] - 2s 738ms/step - loss: 0.7123 - accuracy: 0.4915 - val_loss: 0.7040 - val_accuracy: 0.5000\n",
            "Epoch 4/30\n",
            "3/3 [==============================] - 2s 754ms/step - loss: 0.6879 - accuracy: 0.4915 - val_loss: 0.6895 - val_accuracy: 0.5625\n",
            "Epoch 5/30\n",
            "3/3 [==============================] - 2s 718ms/step - loss: 0.6751 - accuracy: 0.5254 - val_loss: 0.6884 - val_accuracy: 0.5000\n",
            "Epoch 6/30\n",
            "3/3 [==============================] - 2s 744ms/step - loss: 0.6724 - accuracy: 0.5424 - val_loss: 0.6836 - val_accuracy: 0.4375\n",
            "Epoch 7/30\n",
            "3/3 [==============================] - 2s 709ms/step - loss: 0.6524 - accuracy: 0.5763 - val_loss: 0.6855 - val_accuracy: 0.4375\n",
            "Epoch 8/30\n",
            "3/3 [==============================] - 2s 730ms/step - loss: 0.6717 - accuracy: 0.5424 - val_loss: 0.6874 - val_accuracy: 0.5000\n",
            "Epoch 9/30\n",
            "3/3 [==============================] - 2s 708ms/step - loss: 0.6253 - accuracy: 0.6610 - val_loss: 0.7731 - val_accuracy: 0.4375\n",
            "Epoch 10/30\n",
            "3/3 [==============================] - 2s 730ms/step - loss: 0.5866 - accuracy: 0.6610 - val_loss: 0.7051 - val_accuracy: 0.5000\n",
            "Epoch 11/30\n",
            "3/3 [==============================] - 2s 744ms/step - loss: 0.5809 - accuracy: 0.6610 - val_loss: 0.7012 - val_accuracy: 0.5000\n",
            "Epoch 12/30\n",
            "3/3 [==============================] - 2s 730ms/step - loss: 0.5972 - accuracy: 0.7119 - val_loss: 0.7557 - val_accuracy: 0.4375\n",
            "Epoch 13/30\n",
            "3/3 [==============================] - 2s 754ms/step - loss: 0.6997 - accuracy: 0.5932 - val_loss: 0.7361 - val_accuracy: 0.4375\n",
            "Epoch 14/30\n",
            "3/3 [==============================] - 2s 700ms/step - loss: 0.6348 - accuracy: 0.6271 - val_loss: 0.6840 - val_accuracy: 0.5625\n",
            "Epoch 15/30\n",
            "3/3 [==============================] - 2s 760ms/step - loss: 0.6298 - accuracy: 0.6441 - val_loss: 0.6733 - val_accuracy: 0.5625\n",
            "Epoch 16/30\n",
            "3/3 [==============================] - 2s 728ms/step - loss: 0.6043 - accuracy: 0.6780 - val_loss: 0.6728 - val_accuracy: 0.5625\n",
            "Epoch 17/30\n",
            "3/3 [==============================] - 2s 750ms/step - loss: 0.6011 - accuracy: 0.6610 - val_loss: 0.7125 - val_accuracy: 0.4375\n",
            "Epoch 18/30\n",
            "3/3 [==============================] - 2s 731ms/step - loss: 0.5989 - accuracy: 0.6780 - val_loss: 0.8786 - val_accuracy: 0.5625\n",
            "Epoch 19/30\n",
            "3/3 [==============================] - 2s 738ms/step - loss: 0.6595 - accuracy: 0.5763 - val_loss: 0.7319 - val_accuracy: 0.4375\n",
            "Epoch 20/30\n",
            "3/3 [==============================] - 2s 738ms/step - loss: 0.5930 - accuracy: 0.6441 - val_loss: 0.6785 - val_accuracy: 0.5625\n",
            "Epoch 21/30\n",
            "3/3 [==============================] - 2s 707ms/step - loss: 0.6103 - accuracy: 0.6441 - val_loss: 0.6453 - val_accuracy: 0.5625\n",
            "Epoch 22/30\n",
            "3/3 [==============================] - 2s 735ms/step - loss: 0.5712 - accuracy: 0.6949 - val_loss: 0.6455 - val_accuracy: 0.6250\n",
            "Epoch 23/30\n",
            "3/3 [==============================] - 2s 737ms/step - loss: 0.5731 - accuracy: 0.6780 - val_loss: 0.6766 - val_accuracy: 0.6250\n",
            "Epoch 24/30\n",
            "3/3 [==============================] - 2s 734ms/step - loss: 0.5994 - accuracy: 0.6780 - val_loss: 0.6932 - val_accuracy: 0.5625\n",
            "Epoch 25/30\n",
            "3/3 [==============================] - 2s 696ms/step - loss: 0.5106 - accuracy: 0.7627 - val_loss: 0.7614 - val_accuracy: 0.4375\n",
            "Epoch 26/30\n",
            "3/3 [==============================] - 2s 751ms/step - loss: 0.5607 - accuracy: 0.6949 - val_loss: 0.8885 - val_accuracy: 0.4375\n",
            "Epoch 27/30\n",
            "3/3 [==============================] - 2s 738ms/step - loss: 0.6048 - accuracy: 0.6102 - val_loss: 0.8205 - val_accuracy: 0.4375\n",
            "Epoch 28/30\n",
            "3/3 [==============================] - 2s 694ms/step - loss: 0.5710 - accuracy: 0.6780 - val_loss: 0.6169 - val_accuracy: 0.5625\n",
            "Epoch 29/30\n",
            "3/3 [==============================] - 2s 718ms/step - loss: 0.5735 - accuracy: 0.6780 - val_loss: 0.5849 - val_accuracy: 0.6875\n",
            "Epoch 30/30\n",
            "3/3 [==============================] - 2s 731ms/step - loss: 0.5642 - accuracy: 0.7119 - val_loss: 0.5632 - val_accuracy: 0.6875\n"
          ]
        },
        {
          "output_type": "execute_result",
          "data": {
            "text/plain": [
              "<keras.callbacks.History at 0x7fa6b7e01190>"
            ]
          },
          "metadata": {},
          "execution_count": 11
        }
      ]
    }
  ]
}