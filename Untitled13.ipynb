{
  "nbformat": 4,
  "nbformat_minor": 0,
  "metadata": {
    "colab": {
      "provenance": [],
      "collapsed_sections": [],
      "authorship_tag": "ABX9TyOyGARoH95fiZWDgyvEmeAB",
      "include_colab_link": true
    },
    "kernelspec": {
      "name": "python3",
      "display_name": "Python 3"
    },
    "language_info": {
      "name": "python"
    }
  },
  "cells": [
    {
      "cell_type": "markdown",
      "metadata": {
        "id": "view-in-github",
        "colab_type": "text"
      },
      "source": [
        "<a href=\"https://colab.research.google.com/github/gundaminpde/2022/blob/main/Untitled13.ipynb\" target=\"_parent\"><img src=\"https://colab.research.google.com/assets/colab-badge.svg\" alt=\"Open In Colab\"/></a>"
      ]
    },
    {
      "cell_type": "code",
      "execution_count": null,
      "metadata": {
        "colab": {
          "base_uri": "https://localhost:8080/"
        },
        "id": "6xe5IvsZ3Aip",
        "outputId": "1fbd62fe-788a-42ee-de02-3238523ffaed"
      },
      "outputs": [
        {
          "output_type": "execute_result",
          "data": {
            "text/plain": [
              "2.143"
            ]
          },
          "metadata": {},
          "execution_count": 1
        }
      ],
      "source": [
        "## round(숫자,자릿수)\n",
        "\n",
        "round((1+2+3+4+5)/7,3)"
      ]
    },
    {
      "cell_type": "code",
      "source": [
        "## 123456e3 = 123456 X 10^3\n",
        "\n",
        "print(3.56 == 356e-2)"
      ],
      "metadata": {
        "colab": {
          "base_uri": "https://localhost:8080/"
        },
        "id": "VG-5uSf93x3O",
        "outputId": "d2323c3b-2d37-4c2f-fe4b-480145832a6d"
      },
      "execution_count": null,
      "outputs": [
        {
          "output_type": "stream",
          "name": "stdout",
          "text": [
            "True\n"
          ]
        }
      ]
    },
    {
      "cell_type": "code",
      "source": [
        "## 간단히 함수 정의하기 lambda 매개변수1, 매개변수2: 함수\n",
        "\n",
        "y = lambda a,b: a+(b**2)\n",
        "\n",
        "y(3,10)"
      ],
      "metadata": {
        "colab": {
          "base_uri": "https://localhost:8080/"
        },
        "id": "gzOVK2zu4BOD",
        "outputId": "fc6fc4db-e5aa-4c57-b41b-95a190670723"
      },
      "execution_count": null,
      "outputs": [
        {
          "output_type": "execute_result",
          "data": {
            "text/plain": [
              "103"
            ]
          },
          "metadata": {},
          "execution_count": 4
        }
      ]
    },
    {
      "cell_type": "code",
      "source": [
        "## return \n",
        "\n",
        "def f(x,y):\n",
        "  return x+y\n",
        "\n",
        "f(1,2)"
      ],
      "metadata": {
        "colab": {
          "base_uri": "https://localhost:8080/"
        },
        "id": "bwznedMQ4t1S",
        "outputId": "64cc1858-3f96-4c69-8a9c-ed3989c70b67"
      },
      "execution_count": null,
      "outputs": [
        {
          "output_type": "execute_result",
          "data": {
            "text/plain": [
              "3"
            ]
          },
          "metadata": {},
          "execution_count": 5
        }
      ]
    },
    {
      "cell_type": "code",
      "source": [
        "\n",
        "import os\n",
        "\n",
        "os.chdir('/content/')\n",
        "\n",
        "print(os.getcwd()) #현재 위치 확인하기\n",
        "\n",
        "print(os.listdir()) \n",
        "\n",
        "###os.chdir('C:\\\\User\\\\user\\\\python') 폴더 이동하기\n",
        "\n",
        "\n",
        "os.chdir('/content/sample_data/')\n",
        "\n",
        "print(os.listdir()) #폴더 안에 뭐가 있나?\n",
        "\n",
        "### 객체 이름 = open('파일이름',파일열기 모드) \n",
        "\n",
        "### open('README.md','w') ### 사실 객체이름을 정하지 않아도 파일이 열린다.\n",
        "\n",
        "##f = open('README.md','w')\n",
        "\n",
        "##f.close() ### 닫지 않고 다시 여는 것같은 작업을 하면, 오류가 생긴다. 그래서 쓰고 나면, 닫아야 한다.\n",
        "\n",
        "## 'w'는 파일 내용을 새로 쓸 때, 'r'은 내용을 읽을 때, 'a'는 내용을 추가할 때 사용한다.\n",
        "\n",
        "f = open('test1.txt','r')\n",
        "\n",
        "\n",
        "## f = open('test1.txt','r',encoding ='utf8' ) 화일이 한글일 때, encoding ='utf8'추가한다.\n",
        "\n",
        "f.read()\n"
      ],
      "metadata": {
        "colab": {
          "base_uri": "https://localhost:8080/",
          "height": 109
        },
        "id": "FfuaxG025SsF",
        "outputId": "bf78faad-1161-4c66-bb65-0973886244e6"
      },
      "execution_count": null,
      "outputs": [
        {
          "output_type": "stream",
          "name": "stdout",
          "text": [
            "/content\n",
            "['.config', 'mnist_train_small.csv', 'sample_data']\n",
            "['anscombe.json', 'README.md', 'mnist_train_small.csv', 'test1.txt', 'california_housing_train.csv', 'california_housing_test.csv', 'mnist_test.csv']\n"
          ]
        },
        {
          "output_type": "execute_result",
          "data": {
            "text/plain": [
              "'주성치가 좋아요.'"
            ],
            "application/vnd.google.colaboratory.intrinsic+json": {
              "type": "string"
            }
          },
          "metadata": {},
          "execution_count": 24
        }
      ]
    },
    {
      "cell_type": "code",
      "source": [
        "### 와~ pandas\n",
        "\n",
        "import pandas as pd\n",
        "\n",
        "import os\n",
        "\n",
        "os.chdir('/content/')\n",
        "\n",
        "print(os.getcwd())\n",
        "\n",
        "df = pd.read_csv('../content/sample_data/mnist_train_small.csv', sep=',')\n",
        "\n",
        "\n",
        "### !git clone https://github.com/gundaminpde/chow.git\n",
        "\n",
        "##df2 = pd.read_csv('../content/sample_data/mnist_train_small.csv', sep=',')\n",
        "\n",
        "\n",
        "print(df.head())\n",
        "\n"
      ],
      "metadata": {
        "colab": {
          "base_uri": "https://localhost:8080/"
        },
        "id": "jwT3_cPO7uVk",
        "outputId": "f14a1a27-3b87-4c04-abb9-07a4fe32fa2e"
      },
      "execution_count": 20,
      "outputs": [
        {
          "output_type": "stream",
          "name": "stdout",
          "text": [
            "/content\n",
            "   6  0  0.1  0.2  0.3  0.4  0.5  0.6  0.7  0.8  ...  0.581  0.582  0.583  \\\n",
            "0  5  0    0    0    0    0    0    0    0    0  ...      0      0      0   \n",
            "1  7  0    0    0    0    0    0    0    0    0  ...      0      0      0   \n",
            "2  9  0    0    0    0    0    0    0    0    0  ...      0      0      0   \n",
            "3  5  0    0    0    0    0    0    0    0    0  ...      0      0      0   \n",
            "4  2  0    0    0    0    0    0    0    0    0  ...      0      0      0   \n",
            "\n",
            "   0.584  0.585  0.586  0.587  0.588  0.589  0.590  \n",
            "0      0      0      0      0      0      0      0  \n",
            "1      0      0      0      0      0      0      0  \n",
            "2      0      0      0      0      0      0      0  \n",
            "3      0      0      0      0      0      0      0  \n",
            "4      0      0      0      0      0      0      0  \n",
            "\n",
            "[5 rows x 785 columns]\n"
          ]
        }
      ]
    }
  ]
}