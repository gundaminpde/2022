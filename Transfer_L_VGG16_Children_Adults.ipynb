{
  "nbformat": 4,
  "nbformat_minor": 0,
  "metadata": {
    "colab": {
      "provenance": [],
      "authorship_tag": "ABX9TyO571yns08uPQQEjkQRXpuG",
      "include_colab_link": true
    },
    "kernelspec": {
      "name": "python3",
      "display_name": "Python 3"
    },
    "language_info": {
      "name": "python"
    }
  },
  "cells": [
    {
      "cell_type": "markdown",
      "metadata": {
        "id": "view-in-github",
        "colab_type": "text"
      },
      "source": [
        "<a href=\"https://colab.research.google.com/github/gundaminpde/2022/blob/main/Transfer_L_VGG16_Children_Adults.ipynb\" target=\"_parent\"><img src=\"https://colab.research.google.com/assets/colab-badge.svg\" alt=\"Open In Colab\"/></a>"
      ]
    },
    {
      "cell_type": "code",
      "execution_count": null,
      "metadata": {
        "colab": {
          "base_uri": "https://localhost:8080/"
        },
        "id": "JRuE_ZTXx1Lu",
        "outputId": "40baed55-0677-4945-eb45-d24aee75da6c"
      },
      "outputs": [
        {
          "output_type": "stream",
          "name": "stdout",
          "text": [
            "Mounted at /content/drive/\n"
          ]
        }
      ],
      "source": [
        "###어린이와 어른의 사진을 구분하는 분류 모델을 VGG16을 통해 전이학습한다.\n",
        "\n",
        "### 앞의 것과 다르게 kaggle에서 직접 자료를 받아 사용하였음.\n",
        "\n",
        "### 자료는 https://www.kaggle.com/datasets/die9origephit/children-vs-adults-images?select=train 에서 받았음.\n",
        "\n",
        "from google.colab import drive \n",
        "drive.mount('/content/drive/') \n",
        "\n"
      ]
    },
    {
      "cell_type": "code",
      "source": [
        "import numpy as np\n",
        "import tensorflow as tf\n",
        "import matplotlib.pyplot as plt\n",
        "import matplotlib.image as mpimg\n",
        "\n",
        "from tensorflow.keras import Model\n",
        "from tensorflow.keras.models import Sequential\n",
        "from tensorflow.keras.layers import Dense, GlobalMaxPool2D, GlobalAveragePooling2D\n",
        "from tensorflow.keras.applications import ResNet50, VGG16\n",
        "from tensorflow.keras.preprocessing.image import ImageDataGenerator\n",
        "\n",
        "#trans_model = ResNet50(include_top=False,\n",
        "#                 weights=\"imagenet\",\n",
        "#                 ##input_tensor=None,  ## include_top=False 이면 None\n",
        "#                 input_shape=(200,200,3),    ## include_top=False 이면 None\n",
        "#                 ##pooling=None,\n",
        "#                 classes=1000) #imagenet을 하려면 1000을 값으로 씀\n",
        "\n",
        "trans_model = VGG16(include_top=False, # VGG내부에 원래 있던 마지막 fully connected part를 사용할까? 말까?\n",
        "                 weights=\"imagenet\",\n",
        "                 ##input_tensor=None,  ## include_top=False 이면 None\n",
        "                 input_shape=(200,200,3),    ## include_top=False 이면 None\n",
        "                 ##pooling=None,\n",
        "                 classes=1000) #imagenet을 하려면 1000을 값으로 씀"
      ],
      "metadata": {
        "id": "M4K19GqJybBl",
        "colab": {
          "base_uri": "https://localhost:8080/"
        },
        "outputId": "a984a379-61d2-4773-fcc5-165c6921b51d"
      },
      "execution_count": null,
      "outputs": [
        {
          "output_type": "stream",
          "name": "stdout",
          "text": [
            "Downloading data from https://storage.googleapis.com/tensorflow/keras-applications/vgg16/vgg16_weights_tf_dim_ordering_tf_kernels_notop.h5\n",
            "58889256/58889256 [==============================] - 0s 0us/step\n"
          ]
        }
      ]
    },
    {
      "cell_type": "code",
      "source": [
        "trans_model.summary()"
      ],
      "metadata": {
        "colab": {
          "base_uri": "https://localhost:8080/"
        },
        "id": "_rgHke3uzjY2",
        "outputId": "32d751c7-c9f3-4d2f-b259-79dee76008d1"
      },
      "execution_count": null,
      "outputs": [
        {
          "output_type": "stream",
          "name": "stdout",
          "text": [
            "Model: \"vgg16\"\n",
            "_________________________________________________________________\n",
            " Layer (type)                Output Shape              Param #   \n",
            "=================================================================\n",
            " input_1 (InputLayer)        [(None, 200, 200, 3)]     0         \n",
            "                                                                 \n",
            " block1_conv1 (Conv2D)       (None, 200, 200, 64)      1792      \n",
            "                                                                 \n",
            " block1_conv2 (Conv2D)       (None, 200, 200, 64)      36928     \n",
            "                                                                 \n",
            " block1_pool (MaxPooling2D)  (None, 100, 100, 64)      0         \n",
            "                                                                 \n",
            " block2_conv1 (Conv2D)       (None, 100, 100, 128)     73856     \n",
            "                                                                 \n",
            " block2_conv2 (Conv2D)       (None, 100, 100, 128)     147584    \n",
            "                                                                 \n",
            " block2_pool (MaxPooling2D)  (None, 50, 50, 128)       0         \n",
            "                                                                 \n",
            " block3_conv1 (Conv2D)       (None, 50, 50, 256)       295168    \n",
            "                                                                 \n",
            " block3_conv2 (Conv2D)       (None, 50, 50, 256)       590080    \n",
            "                                                                 \n",
            " block3_conv3 (Conv2D)       (None, 50, 50, 256)       590080    \n",
            "                                                                 \n",
            " block3_pool (MaxPooling2D)  (None, 25, 25, 256)       0         \n",
            "                                                                 \n",
            " block4_conv1 (Conv2D)       (None, 25, 25, 512)       1180160   \n",
            "                                                                 \n",
            " block4_conv2 (Conv2D)       (None, 25, 25, 512)       2359808   \n",
            "                                                                 \n",
            " block4_conv3 (Conv2D)       (None, 25, 25, 512)       2359808   \n",
            "                                                                 \n",
            " block4_pool (MaxPooling2D)  (None, 12, 12, 512)       0         \n",
            "                                                                 \n",
            " block5_conv1 (Conv2D)       (None, 12, 12, 512)       2359808   \n",
            "                                                                 \n",
            " block5_conv2 (Conv2D)       (None, 12, 12, 512)       2359808   \n",
            "                                                                 \n",
            " block5_conv3 (Conv2D)       (None, 12, 12, 512)       2359808   \n",
            "                                                                 \n",
            " block5_pool (MaxPooling2D)  (None, 6, 6, 512)         0         \n",
            "                                                                 \n",
            "=================================================================\n",
            "Total params: 14,714,688\n",
            "Trainable params: 14,714,688\n",
            "Non-trainable params: 0\n",
            "_________________________________________________________________\n"
          ]
        }
      ]
    },
    {
      "cell_type": "code",
      "source": [
        "trans_model.trainable = False\n",
        "\n",
        "from tensorflow.keras.layers import Flatten, Dropout\n",
        "\n",
        "model= Sequential()\n",
        "\n",
        "model.add(trans_model)\n",
        "model.add(Flatten())\n",
        "model.add(Dense(10,activation='relu'))\n",
        "model.add(Dropout(0.3))\n",
        "model.add(Dense(2,activation='softmax'))\n",
        "model.summary()"
      ],
      "metadata": {
        "colab": {
          "base_uri": "https://localhost:8080/"
        },
        "id": "WnR1t3tTz7fU",
        "outputId": "3aa3b64f-a533-49ec-e8be-5fd08c7d1919"
      },
      "execution_count": null,
      "outputs": [
        {
          "output_type": "stream",
          "name": "stdout",
          "text": [
            "Model: \"sequential\"\n",
            "_________________________________________________________________\n",
            " Layer (type)                Output Shape              Param #   \n",
            "=================================================================\n",
            " vgg16 (Functional)          (None, 6, 6, 512)         14714688  \n",
            "                                                                 \n",
            " flatten (Flatten)           (None, 18432)             0         \n",
            "                                                                 \n",
            " dense (Dense)               (None, 10)                184330    \n",
            "                                                                 \n",
            " dropout (Dropout)           (None, 10)                0         \n",
            "                                                                 \n",
            " dense_1 (Dense)             (None, 2)                 22        \n",
            "                                                                 \n",
            "=================================================================\n",
            "Total params: 14,899,040\n",
            "Trainable params: 184,352\n",
            "Non-trainable params: 14,714,688\n",
            "_________________________________________________________________\n"
          ]
        }
      ]
    },
    {
      "cell_type": "code",
      "source": [
        "model.compile(loss='categorical_crossentropy',\n",
        "              optimizer='adam',\n",
        "              metrics=['accuracy'])"
      ],
      "metadata": {
        "id": "_N-aGK-i0Dqy"
      },
      "execution_count": null,
      "outputs": []
    },
    {
      "cell_type": "code",
      "source": [
        "pwd"
      ],
      "metadata": {
        "colab": {
          "base_uri": "https://localhost:8080/",
          "height": 36
        },
        "id": "eqiq7utC0QA_",
        "outputId": "4688c9f7-b9cb-498d-b127-03ba6569b040"
      },
      "execution_count": null,
      "outputs": [
        {
          "output_type": "execute_result",
          "data": {
            "text/plain": [
              "'/content'"
            ],
            "application/vnd.google.colaboratory.intrinsic+json": {
              "type": "string"
            }
          },
          "metadata": {},
          "execution_count": 7
        }
      ]
    },
    {
      "cell_type": "code",
      "source": [
        "cd /"
      ],
      "metadata": {
        "colab": {
          "base_uri": "https://localhost:8080/"
        },
        "id": "Ochkc_KG7lyU",
        "outputId": "dc0e7ae3-b68f-4661-c5b4-aac3e1b9bf13"
      },
      "execution_count": null,
      "outputs": [
        {
          "output_type": "stream",
          "name": "stdout",
          "text": [
            "/\n"
          ]
        }
      ]
    },
    {
      "cell_type": "code",
      "source": [
        "train_gen = ImageDataGenerator(\n",
        "        rescale=1./255,         # 픽셀 값을 0~1 범위로 변환\n",
        "        rotation_range=40,      # 40도까지 회전\n",
        "        width_shift_range=0.2,  # 20%까지 좌우 이동\n",
        "        height_shift_range=0.2, # 20%까지 상하 이동\n",
        "        shear_range=0.2,        # 20%까지 기울임\n",
        "        zoom_range=0.2,         # 20%까지 확대\n",
        "        horizontal_flip=True,   # 좌우 뒤집기\n",
        "    )\n",
        "\n",
        "\n",
        "train = train_gen.flow_from_directory(directory='../content/drive/MyDrive/data/train',\n",
        "                                              target_size=(200, 200),  # 사용할 CNN 모델 입력 사이즈에 맞게 resize\n",
        "                                              color_mode='rgb',       # 컬러는 rgb, 흑백은 grayscale. 생략하면 컬러로 처리한다\n",
        "                                              class_mode='categorical', # class_mode='binary',\n",
        "                                              batch_size=20,\n",
        "                                              shuffle=True)\n",
        "\n",
        "valid_gen = ImageDataGenerator(\n",
        "        rescale=1./255        \n",
        "    ) \n",
        "\n",
        "\n",
        "valid = valid_gen.flow_from_directory(directory='../content/drive/MyDrive/data/test',\n",
        "                                              target_size=(200, 200),  # 사용할 CNN 모델 입력 사이즈에 맞게 resize\n",
        "                                              color_mode='rgb',       # 컬러는 rgb, 흑백은 grayscale. 생략하면 컬러로 처리한다\n",
        "                                              class_mode='categorical', # class_mode='binary',\n",
        "                                              batch_size=3,\n",
        "                                              shuffle=True)\n",
        "\n",
        "hist = model.fit(train, epochs=3, validation_data=valid, verbose=1)\n",
        "\n"
      ],
      "metadata": {
        "colab": {
          "base_uri": "https://localhost:8080/"
        },
        "id": "oxi7MsJR0XBX",
        "outputId": "155cf830-3fad-4ecc-8442-3ad9f6b97373"
      },
      "execution_count": null,
      "outputs": [
        {
          "output_type": "stream",
          "name": "stdout",
          "text": [
            "Found 680 images belonging to 2 classes.\n",
            "Found 120 images belonging to 2 classes.\n",
            "Epoch 1/3\n",
            "34/34 [==============================] - 301s 9s/step - loss: 0.7527 - accuracy: 0.4838 - val_loss: 0.6931 - val_accuracy: 0.5000\n",
            "Epoch 2/3\n",
            "34/34 [==============================] - 296s 9s/step - loss: 0.6932 - accuracy: 0.4794 - val_loss: 0.6931 - val_accuracy: 0.5000\n",
            "Epoch 3/3\n",
            "34/34 [==============================] - 295s 9s/step - loss: 0.6932 - accuracy: 0.5000 - val_loss: 0.6931 - val_accuracy: 0.5000\n"
          ]
        }
      ]
    }
  ]
}