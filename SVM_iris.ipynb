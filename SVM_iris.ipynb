{
  "nbformat": 4,
  "nbformat_minor": 0,
  "metadata": {
    "colab": {
      "provenance": [],
      "authorship_tag": "ABX9TyPHeqwY3hcsLIyyZhZKlmUY",
      "include_colab_link": true
    },
    "kernelspec": {
      "name": "python3",
      "display_name": "Python 3"
    },
    "language_info": {
      "name": "python"
    }
  },
  "cells": [
    {
      "cell_type": "markdown",
      "metadata": {
        "id": "view-in-github",
        "colab_type": "text"
      },
      "source": [
        "<a href=\"https://colab.research.google.com/github/gundaminpde/2022/blob/main/SVM_iris.ipynb\" target=\"_parent\"><img src=\"https://colab.research.google.com/assets/colab-badge.svg\" alt=\"Open In Colab\"/></a>"
      ]
    },
    {
      "cell_type": "code",
      "execution_count": 1,
      "metadata": {
        "colab": {
          "base_uri": "https://localhost:8080/"
        },
        "id": "CZlR8pp0ZDBy",
        "outputId": "24111cd3-e4b1-4a75-fff7-275c6c8f98aa"
      },
      "outputs": [
        {
          "output_type": "stream",
          "name": "stdout",
          "text": [
            "베스트 하이퍼 파라미터: {'C': 0.9, 'gamma': 0.1}\n",
            "베스트 하이퍼 파라미터 일 때 정확도: 0.96\n",
            "테스트세트에서의 정확도: 0.98\n",
            "실제 값: virginica, 예측 값: virginica\n",
            "실제 값: setosa, 예측 값: setosa\n",
            "실제 값: setosa, 예측 값: setosa\n",
            "실제 값: virginica, 예측 값: versicolor\n",
            "실제 값: versicolor, 예측 값: versicolor\n",
            "실제 값: versicolor, 예측 값: versicolor\n",
            "실제 값: virginica, 예측 값: virginica\n",
            "실제 값: versicolor, 예측 값: versicolor\n",
            "실제 값: virginica, 예측 값: virginica\n",
            "실제 값: setosa, 예측 값: setosa\n"
          ]
        }
      ],
      "source": [
        "\n",
        "## github.com/baek2sm/에서 가지고 왔습니다.\n",
        "\n",
        "\n",
        "# -*- coding:utf-8 -*-\n",
        "from sklearn.datasets import load_iris\n",
        "from sklearn.svm import SVC\n",
        "from sklearn.model_selection import train_test_split\n",
        "from sklearn.preprocessing import StandardScaler\n",
        "from sklearn.model_selection import GridSearchCV\n",
        "\n",
        "import numpy as np\n",
        "\n",
        "# 분류용 샘플 데이터 불러오기\n",
        "iris = load_iris()\n",
        "X, y, labels = iris.data, iris.target, iris.target_names\n",
        "\n",
        "# 학습/테스트 데이터셋 분할\n",
        "X_train, X_test, y_train, y_test = train_test_split(X, y, test_size=0.3, random_state=1, stratify=y)\n",
        "\n",
        "# 데이터 전처리(표준화, Standardization)\n",
        "std = StandardScaler()\n",
        "X_train_std = std.fit_transform(X_train)\n",
        "X_test_std = std.transform(X_test)\n",
        "\n",
        "# RBF 커널 서포트 벡터 머신 + 그리드서치로 모델 학습\n",
        "svm = SVC()\n",
        "param_grid = [{'C': np.linspace(0.1, 10, 100), 'gamma': np.linspace(0.1, 10, 100)}]\n",
        "gs = GridSearchCV(estimator=svm, param_grid=param_grid, scoring='accuracy', cv=5, n_jobs=-1)\n",
        "gs.fit(X_train_std, y_train)\n",
        "\n",
        "# 그리드서치 학습 결과 출력\n",
        "print('베스트 하이퍼 파라미터: {0}'.format(gs.best_params_))\n",
        "print('베스트 하이퍼 파라미터 일 때 정확도: {0:.2f}'.format(gs.best_score_))\n",
        "\n",
        "# 최적화 모델 추출\n",
        "model = gs.best_estimator_\n",
        "\n",
        "# 테스트세트 정확도 출력\n",
        "score = model.score(X_test_std, y_test)\n",
        "print('테스트세트에서의 정확도: {0:.2f}'.format(score))\n",
        "\n",
        "# 테스트세트 예측 결과 샘플 출력\n",
        "predicted_y = model.predict(X_test_std)\n",
        "for i in range(10):\n",
        "    print('실제 값: {0}, 예측 값: {1}'.format(labels[y_test[i]], labels[predicted_y[i]]))"
      ]
    }
  ]
}